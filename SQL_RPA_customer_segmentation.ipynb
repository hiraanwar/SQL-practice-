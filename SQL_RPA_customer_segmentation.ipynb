{
 "cells": [
  {
   "cell_type": "markdown",
   "id": "ddf0bbb7",
   "metadata": {},
   "source": [
    "# Analyze Data With SQL In Jupyter Notebook\n",
    "## RPA Customer Segmentation | practice writing basic SQL queries | CodeAcademy \n"
   ]
  },
  {
   "cell_type": "code",
   "execution_count": 43,
   "id": "7997a44f",
   "metadata": {},
   "outputs": [],
   "source": [
    "import pandas as pd\n",
    "import numpy as np\n",
    "import sqlite3 as sql "
   ]
  },
  {
   "cell_type": "markdown",
   "id": "7a726cb8",
   "metadata": {},
   "source": [
    "open CSV file in pandas dataframe "
   ]
  },
  {
   "cell_type": "code",
   "execution_count": 42,
   "id": "39cd5789",
   "metadata": {},
   "outputs": [
    {
     "data": {
      "text/html": [
       "<div>\n",
       "<style scoped>\n",
       "    .dataframe tbody tr th:only-of-type {\n",
       "        vertical-align: middle;\n",
       "    }\n",
       "\n",
       "    .dataframe tbody tr th {\n",
       "        vertical-align: top;\n",
       "    }\n",
       "\n",
       "    .dataframe thead th {\n",
       "        text-align: right;\n",
       "    }\n",
       "</style>\n",
       "<table border=\"1\" class=\"dataframe\">\n",
       "  <thead>\n",
       "    <tr style=\"text-align: right;\">\n",
       "      <th></th>\n",
       "      <th>id</th>\n",
       "      <th>email</th>\n",
       "      <th>campaign</th>\n",
       "      <th>test</th>\n",
       "      <th>created_at</th>\n",
       "      <th>birthday</th>\n",
       "    </tr>\n",
       "  </thead>\n",
       "  <tbody>\n",
       "    <tr>\n",
       "      <th>0</th>\n",
       "      <td>1</td>\n",
       "      <td>gchesshire0@ucoz.ru</td>\n",
       "      <td>NaN</td>\n",
       "      <td>NaN</td>\n",
       "      <td>2017-01-26</td>\n",
       "      <td>1982-04-17</td>\n",
       "    </tr>\n",
       "    <tr>\n",
       "      <th>1</th>\n",
       "      <td>2</td>\n",
       "      <td>rbritner1@is.gd</td>\n",
       "      <td>NaN</td>\n",
       "      <td>NaN</td>\n",
       "      <td>2017-10-08</td>\n",
       "      <td>1970-01-16</td>\n",
       "    </tr>\n",
       "    <tr>\n",
       "      <th>2</th>\n",
       "      <td>3</td>\n",
       "      <td>acoysh2@canalblog.com</td>\n",
       "      <td>NaN</td>\n",
       "      <td>NaN</td>\n",
       "      <td>2017-09-05</td>\n",
       "      <td>1986-08-11</td>\n",
       "    </tr>\n",
       "    <tr>\n",
       "      <th>3</th>\n",
       "      <td>4</td>\n",
       "      <td>rbasley3@google.cn</td>\n",
       "      <td>NaN</td>\n",
       "      <td>NaN</td>\n",
       "      <td>2017-07-29</td>\n",
       "      <td>1960-08-29</td>\n",
       "    </tr>\n",
       "    <tr>\n",
       "      <th>4</th>\n",
       "      <td>5</td>\n",
       "      <td>kdury4@elpais.com</td>\n",
       "      <td>NaN</td>\n",
       "      <td>NaN</td>\n",
       "      <td>2017-05-28</td>\n",
       "      <td>1988-10-02</td>\n",
       "    </tr>\n",
       "  </tbody>\n",
       "</table>\n",
       "</div>"
      ],
      "text/plain": [
       "   id                  email campaign test  created_at    birthday\n",
       "0   1    gchesshire0@ucoz.ru      NaN  NaN  2017-01-26  1982-04-17\n",
       "1   2        rbritner1@is.gd      NaN  NaN  2017-10-08  1970-01-16\n",
       "2   3  acoysh2@canalblog.com      NaN  NaN  2017-09-05  1986-08-11\n",
       "3   4     rbasley3@google.cn      NaN  NaN  2017-07-29  1960-08-29\n",
       "4   5      kdury4@elpais.com      NaN  NaN  2017-05-28  1988-10-02"
      ]
     },
     "execution_count": 42,
     "metadata": {},
     "output_type": "execute_result"
    }
   ],
   "source": [
    "users_db = pd.read_csv('RPA_customersegmentation_data.csv')\n",
    "users_db.head(5)"
   ]
  },
  {
   "cell_type": "markdown",
   "id": "5dc81720",
   "metadata": {},
   "source": [
    "### install the ipythons-sql library\n",
    "This librabry will enable you to run sql in jupyer using jupyter magic commands"
   ]
  },
  {
   "cell_type": "markdown",
   "id": "62d21e61",
   "metadata": {},
   "source": [
    "!pip install ipython-sql"
   ]
  },
  {
   "cell_type": "markdown",
   "id": "463214b3",
   "metadata": {},
   "source": [
    "### Use sqlite3 module and create a connection to pandas df \n",
    "### Convert SQLite database to Pandas dataframe with the Pandas df_to_sql() method"
   ]
  },
  {
   "cell_type": "code",
   "execution_count": 60,
   "id": "1fb291f1",
   "metadata": {},
   "outputs": [
    {
     "ename": "ValueError",
     "evalue": "Table 'users' already exists.",
     "output_type": "error",
     "traceback": [
      "\u001b[0;31m---------------------------------------------------------------------------\u001b[0m",
      "\u001b[0;31mValueError\u001b[0m                                Traceback (most recent call last)",
      "\u001b[0;32m<ipython-input-60-1a58fe4eb4db>\u001b[0m in \u001b[0;36m<module>\u001b[0;34m\u001b[0m\n\u001b[1;32m      6\u001b[0m \u001b[0;34m\u001b[0m\u001b[0m\n\u001b[1;32m      7\u001b[0m \u001b[0;31m#Create a table\u001b[0m\u001b[0;34m\u001b[0m\u001b[0;34m\u001b[0m\u001b[0;34m\u001b[0m\u001b[0m\n\u001b[0;32m----> 8\u001b[0;31m \u001b[0mdf\u001b[0m\u001b[0;34m.\u001b[0m\u001b[0mto_sql\u001b[0m\u001b[0;34m(\u001b[0m\u001b[0;34m'users'\u001b[0m\u001b[0;34m,\u001b[0m \u001b[0mconnection\u001b[0m\u001b[0;34m)\u001b[0m\u001b[0;34m\u001b[0m\u001b[0;34m\u001b[0m\u001b[0m\n\u001b[0m",
      "\u001b[0;32m~/opt/anaconda3/lib/python3.8/site-packages/pandas/core/generic.py\u001b[0m in \u001b[0;36mto_sql\u001b[0;34m(self, name, con, schema, if_exists, index, index_label, chunksize, dtype, method)\u001b[0m\n\u001b[1;32m   2777\u001b[0m         \u001b[0;32mfrom\u001b[0m \u001b[0mpandas\u001b[0m\u001b[0;34m.\u001b[0m\u001b[0mio\u001b[0m \u001b[0;32mimport\u001b[0m \u001b[0msql\u001b[0m\u001b[0;34m\u001b[0m\u001b[0;34m\u001b[0m\u001b[0m\n\u001b[1;32m   2778\u001b[0m \u001b[0;34m\u001b[0m\u001b[0m\n\u001b[0;32m-> 2779\u001b[0;31m         sql.to_sql(\n\u001b[0m\u001b[1;32m   2780\u001b[0m             \u001b[0mself\u001b[0m\u001b[0;34m,\u001b[0m\u001b[0;34m\u001b[0m\u001b[0;34m\u001b[0m\u001b[0m\n\u001b[1;32m   2781\u001b[0m             \u001b[0mname\u001b[0m\u001b[0;34m,\u001b[0m\u001b[0;34m\u001b[0m\u001b[0;34m\u001b[0m\u001b[0m\n",
      "\u001b[0;32m~/opt/anaconda3/lib/python3.8/site-packages/pandas/io/sql.py\u001b[0m in \u001b[0;36mto_sql\u001b[0;34m(frame, name, con, schema, if_exists, index, index_label, chunksize, dtype, method)\u001b[0m\n\u001b[1;32m    599\u001b[0m         )\n\u001b[1;32m    600\u001b[0m \u001b[0;34m\u001b[0m\u001b[0m\n\u001b[0;32m--> 601\u001b[0;31m     pandas_sql.to_sql(\n\u001b[0m\u001b[1;32m    602\u001b[0m         \u001b[0mframe\u001b[0m\u001b[0;34m,\u001b[0m\u001b[0;34m\u001b[0m\u001b[0;34m\u001b[0m\u001b[0m\n\u001b[1;32m    603\u001b[0m         \u001b[0mname\u001b[0m\u001b[0;34m,\u001b[0m\u001b[0;34m\u001b[0m\u001b[0;34m\u001b[0m\u001b[0m\n",
      "\u001b[0;32m~/opt/anaconda3/lib/python3.8/site-packages/pandas/io/sql.py\u001b[0m in \u001b[0;36mto_sql\u001b[0;34m(self, frame, name, if_exists, index, index_label, schema, chunksize, dtype, method)\u001b[0m\n\u001b[1;32m   1869\u001b[0m             \u001b[0mdtype\u001b[0m\u001b[0;34m=\u001b[0m\u001b[0mdtype\u001b[0m\u001b[0;34m,\u001b[0m\u001b[0;34m\u001b[0m\u001b[0;34m\u001b[0m\u001b[0m\n\u001b[1;32m   1870\u001b[0m         )\n\u001b[0;32m-> 1871\u001b[0;31m         \u001b[0mtable\u001b[0m\u001b[0;34m.\u001b[0m\u001b[0mcreate\u001b[0m\u001b[0;34m(\u001b[0m\u001b[0;34m)\u001b[0m\u001b[0;34m\u001b[0m\u001b[0;34m\u001b[0m\u001b[0m\n\u001b[0m\u001b[1;32m   1872\u001b[0m         \u001b[0mtable\u001b[0m\u001b[0;34m.\u001b[0m\u001b[0minsert\u001b[0m\u001b[0;34m(\u001b[0m\u001b[0mchunksize\u001b[0m\u001b[0;34m,\u001b[0m \u001b[0mmethod\u001b[0m\u001b[0;34m)\u001b[0m\u001b[0;34m\u001b[0m\u001b[0;34m\u001b[0m\u001b[0m\n\u001b[1;32m   1873\u001b[0m \u001b[0;34m\u001b[0m\u001b[0m\n",
      "\u001b[0;32m~/opt/anaconda3/lib/python3.8/site-packages/pandas/io/sql.py\u001b[0m in \u001b[0;36mcreate\u001b[0;34m(self)\u001b[0m\n\u001b[1;32m    736\u001b[0m         \u001b[0;32mif\u001b[0m \u001b[0mself\u001b[0m\u001b[0;34m.\u001b[0m\u001b[0mexists\u001b[0m\u001b[0;34m(\u001b[0m\u001b[0;34m)\u001b[0m\u001b[0;34m:\u001b[0m\u001b[0;34m\u001b[0m\u001b[0;34m\u001b[0m\u001b[0m\n\u001b[1;32m    737\u001b[0m             \u001b[0;32mif\u001b[0m \u001b[0mself\u001b[0m\u001b[0;34m.\u001b[0m\u001b[0mif_exists\u001b[0m \u001b[0;34m==\u001b[0m \u001b[0;34m\"fail\"\u001b[0m\u001b[0;34m:\u001b[0m\u001b[0;34m\u001b[0m\u001b[0;34m\u001b[0m\u001b[0m\n\u001b[0;32m--> 738\u001b[0;31m                 \u001b[0;32mraise\u001b[0m \u001b[0mValueError\u001b[0m\u001b[0;34m(\u001b[0m\u001b[0;34mf\"Table '{self.name}' already exists.\"\u001b[0m\u001b[0;34m)\u001b[0m\u001b[0;34m\u001b[0m\u001b[0;34m\u001b[0m\u001b[0m\n\u001b[0m\u001b[1;32m    739\u001b[0m             \u001b[0;32melif\u001b[0m \u001b[0mself\u001b[0m\u001b[0;34m.\u001b[0m\u001b[0mif_exists\u001b[0m \u001b[0;34m==\u001b[0m \u001b[0;34m\"replace\"\u001b[0m\u001b[0;34m:\u001b[0m\u001b[0;34m\u001b[0m\u001b[0;34m\u001b[0m\u001b[0m\n\u001b[1;32m    740\u001b[0m                 \u001b[0mself\u001b[0m\u001b[0;34m.\u001b[0m\u001b[0mpd_sql\u001b[0m\u001b[0;34m.\u001b[0m\u001b[0mdrop_table\u001b[0m\u001b[0;34m(\u001b[0m\u001b[0mself\u001b[0m\u001b[0;34m.\u001b[0m\u001b[0mname\u001b[0m\u001b[0;34m,\u001b[0m \u001b[0mself\u001b[0m\u001b[0;34m.\u001b[0m\u001b[0mschema\u001b[0m\u001b[0;34m)\u001b[0m\u001b[0;34m\u001b[0m\u001b[0;34m\u001b[0m\u001b[0m\n",
      "\u001b[0;31mValueError\u001b[0m: Table 'users' already exists."
     ]
    }
   ],
   "source": [
    "#Instantiate a connection\n",
    "connection = sql.connect('users_db')\n",
    "\n",
    "#Instantiate a cursor\n",
    "cursor = connection.cursor()\n",
    "\n",
    "#Create a table\n",
    "df.to_sql('users', connection)"
   ]
  },
  {
   "cell_type": "markdown",
   "id": "1f8258ba",
   "metadata": {},
   "source": [
    "### Load the sql module to ipython "
   ]
  },
  {
   "cell_type": "code",
   "execution_count": 61,
   "id": "f732a6ed",
   "metadata": {},
   "outputs": [],
   "source": [
    "%reload_ext sql"
   ]
  },
  {
   "cell_type": "code",
   "execution_count": 28,
   "id": "5e2b4b3a",
   "metadata": {},
   "outputs": [],
   "source": [
    "%sql sqlite:///users_db"
   ]
  },
  {
   "cell_type": "markdown",
   "id": "428ce1d4",
   "metadata": {},
   "source": [
    "### Run sql queries "
   ]
  },
  {
   "cell_type": "code",
   "execution_count": 62,
   "id": "fecf30de",
   "metadata": {},
   "outputs": [
    {
     "name": "stdout",
     "output_type": "stream",
     "text": [
      " * sqlite:///users_db\n",
      "Done.\n"
     ]
    },
    {
     "data": {
      "text/html": [
       "<table>\n",
       "    <tr>\n",
       "        <th>index</th>\n",
       "        <th>id</th>\n",
       "        <th>email</th>\n",
       "        <th>campaign</th>\n",
       "        <th>test</th>\n",
       "        <th>created_at</th>\n",
       "        <th>birthday</th>\n",
       "    </tr>\n",
       "    <tr>\n",
       "        <td>0</td>\n",
       "        <td>1</td>\n",
       "        <td>gchesshire0@ucoz.ru</td>\n",
       "        <td>None</td>\n",
       "        <td>None</td>\n",
       "        <td>2017-01-26</td>\n",
       "        <td>1982-04-17</td>\n",
       "    </tr>\n",
       "    <tr>\n",
       "        <td>1</td>\n",
       "        <td>2</td>\n",
       "        <td>rbritner1@is.gd</td>\n",
       "        <td>None</td>\n",
       "        <td>None</td>\n",
       "        <td>2017-10-08</td>\n",
       "        <td>1970-01-16</td>\n",
       "    </tr>\n",
       "    <tr>\n",
       "        <td>2</td>\n",
       "        <td>3</td>\n",
       "        <td>acoysh2@canalblog.com</td>\n",
       "        <td>None</td>\n",
       "        <td>None</td>\n",
       "        <td>2017-09-05</td>\n",
       "        <td>1986-08-11</td>\n",
       "    </tr>\n",
       "    <tr>\n",
       "        <td>3</td>\n",
       "        <td>4</td>\n",
       "        <td>rbasley3@google.cn</td>\n",
       "        <td>None</td>\n",
       "        <td>None</td>\n",
       "        <td>2017-07-29</td>\n",
       "        <td>1960-08-29</td>\n",
       "    </tr>\n",
       "    <tr>\n",
       "        <td>4</td>\n",
       "        <td>5</td>\n",
       "        <td>kdury4@elpais.com</td>\n",
       "        <td>None</td>\n",
       "        <td>None</td>\n",
       "        <td>2017-05-28</td>\n",
       "        <td>1988-10-02</td>\n",
       "    </tr>\n",
       "</table>"
      ],
      "text/plain": [
       "[(0, 1, 'gchesshire0@ucoz.ru', None, None, '2017-01-26', '1982-04-17'),\n",
       " (1, 2, 'rbritner1@is.gd', None, None, '2017-10-08', '1970-01-16'),\n",
       " (2, 3, 'acoysh2@canalblog.com', None, None, '2017-09-05', '1986-08-11'),\n",
       " (3, 4, 'rbasley3@google.cn', None, None, '2017-07-29', '1960-08-29'),\n",
       " (4, 5, 'kdury4@elpais.com', None, None, '2017-05-28', '1988-10-02')]"
      ]
     },
     "execution_count": 62,
     "metadata": {},
     "output_type": "execute_result"
    }
   ],
   "source": [
    "%%sql \n",
    "SELECT * \n",
    "FROM users\n",
    "LIMIT 5"
   ]
  },
  {
   "cell_type": "markdown",
   "id": "082fcf7b",
   "metadata": {},
   "source": [
    " **4-Find the emails of the users who received the ‘bears’ test.**\n",
    " "
   ]
  },
  {
   "cell_type": "code",
   "execution_count": 32,
   "id": "dcf8c163",
   "metadata": {
    "scrolled": true
   },
   "outputs": [
    {
     "name": "stdout",
     "output_type": "stream",
     "text": [
      " * sqlite:///users_db\n",
      "Done.\n"
     ]
    },
    {
     "data": {
      "text/html": [
       "<table>\n",
       "    <tr>\n",
       "        <th>index</th>\n",
       "        <th>id</th>\n",
       "        <th>email</th>\n",
       "        <th>campaign</th>\n",
       "        <th>test</th>\n",
       "        <th>created_at</th>\n",
       "        <th>birthday</th>\n",
       "    </tr>\n",
       "    <tr>\n",
       "        <td>7</td>\n",
       "        <td>8</td>\n",
       "        <td>tdurden7@usgs.gov</td>\n",
       "        <td>None</td>\n",
       "        <td>bears</td>\n",
       "        <td>2017-04-09</td>\n",
       "        <td>1989-08-12</td>\n",
       "    </tr>\n",
       "    <tr>\n",
       "        <td>9</td>\n",
       "        <td>10</td>\n",
       "        <td>styndall9@vimeo.com</td>\n",
       "        <td>None</td>\n",
       "        <td>bears</td>\n",
       "        <td>2017-11-05</td>\n",
       "        <td>1976-01-20</td>\n",
       "    </tr>\n",
       "    <tr>\n",
       "        <td>11</td>\n",
       "        <td>12</td>\n",
       "        <td>hhandmanb@macromedia.com</td>\n",
       "        <td>None</td>\n",
       "        <td>bears</td>\n",
       "        <td>2017-05-29</td>\n",
       "        <td>1963-10-24</td>\n",
       "    </tr>\n",
       "    <tr>\n",
       "        <td>30</td>\n",
       "        <td>31</td>\n",
       "        <td>bnoadsu@howstuffworks.com</td>\n",
       "        <td>None</td>\n",
       "        <td>bears</td>\n",
       "        <td>2017-04-29</td>\n",
       "        <td>1967-08-11</td>\n",
       "    </tr>\n",
       "    <tr>\n",
       "        <td>39</td>\n",
       "        <td>40</td>\n",
       "        <td>sirving13@php.net</td>\n",
       "        <td>None</td>\n",
       "        <td>bears</td>\n",
       "        <td>2017-06-10</td>\n",
       "        <td>1987-09-03</td>\n",
       "    </tr>\n",
       "</table>"
      ],
      "text/plain": [
       "[(7, 8, 'tdurden7@usgs.gov', None, 'bears', '2017-04-09', '1989-08-12'),\n",
       " (9, 10, 'styndall9@vimeo.com', None, 'bears', '2017-11-05', '1976-01-20'),\n",
       " (11, 12, 'hhandmanb@macromedia.com', None, 'bears', '2017-05-29', '1963-10-24'),\n",
       " (30, 31, 'bnoadsu@howstuffworks.com', None, 'bears', '2017-04-29', '1967-08-11'),\n",
       " (39, 40, 'sirving13@php.net', None, 'bears', '2017-06-10', '1987-09-03')]"
      ]
     },
     "execution_count": 32,
     "metadata": {},
     "output_type": "execute_result"
    }
   ],
   "source": [
    "%%sql \n",
    "SELECT * \n",
    "FROM users \n",
    "WHERE test = 'bears'\n",
    "LIMIT 5"
   ]
  },
  {
   "cell_type": "markdown",
   "id": "3f7790c8",
   "metadata": {},
   "source": [
    "**5--Find all the emails of all users who received a campaign on website BBB.**"
   ]
  },
  {
   "cell_type": "code",
   "execution_count": 34,
   "id": "26688f82",
   "metadata": {},
   "outputs": [
    {
     "name": "stdout",
     "output_type": "stream",
     "text": [
      " * sqlite:///users_db\n",
      "Done.\n"
     ]
    },
    {
     "data": {
      "text/html": [
       "<table>\n",
       "    <tr>\n",
       "        <th>email</th>\n",
       "        <th>campaign</th>\n",
       "    </tr>\n",
       "    <tr>\n",
       "        <td>egashion1j@angelfire.com</td>\n",
       "        <td>BBB-2</td>\n",
       "    </tr>\n",
       "    <tr>\n",
       "        <td>jfawley22@zdnet.com</td>\n",
       "        <td>BBB-1</td>\n",
       "    </tr>\n",
       "    <tr>\n",
       "        <td>wstruijs2k@kickstarter.com</td>\n",
       "        <td>BBB-2</td>\n",
       "    </tr>\n",
       "    <tr>\n",
       "        <td>gtetlow3c@jimdo.com</td>\n",
       "        <td>BBB-1</td>\n",
       "    </tr>\n",
       "    <tr>\n",
       "        <td>csmogur3q@sbwire.com</td>\n",
       "        <td>BBB-2</td>\n",
       "    </tr>\n",
       "</table>"
      ],
      "text/plain": [
       "[('egashion1j@angelfire.com', 'BBB-2'),\n",
       " ('jfawley22@zdnet.com', 'BBB-1'),\n",
       " ('wstruijs2k@kickstarter.com', 'BBB-2'),\n",
       " ('gtetlow3c@jimdo.com', 'BBB-1'),\n",
       " ('csmogur3q@sbwire.com', 'BBB-2')]"
      ]
     },
     "execution_count": 34,
     "metadata": {},
     "output_type": "execute_result"
    }
   ],
   "source": [
    "%%sql\n",
    "\n",
    "SELECT email, campaign\n",
    "FROM users \n",
    "WHERE campaign LIKE 'B%'\n",
    "LIMIT 5"
   ]
  },
  {
   "cell_type": "markdown",
   "id": "02d3c3a9",
   "metadata": {},
   "source": [
    "**6 -- Find all the emails of all users who received ad copy 2 in their campaign.**"
   ]
  },
  {
   "cell_type": "code",
   "execution_count": 35,
   "id": "414dcdb4",
   "metadata": {},
   "outputs": [
    {
     "name": "stdout",
     "output_type": "stream",
     "text": [
      " * sqlite:///users_db\n",
      "Done.\n"
     ]
    },
    {
     "data": {
      "text/html": [
       "<table>\n",
       "    <tr>\n",
       "        <th>email</th>\n",
       "        <th>campaign</th>\n",
       "        <th>test</th>\n",
       "    </tr>\n",
       "    <tr>\n",
       "        <td>egashion1j@angelfire.com</td>\n",
       "        <td>BBB-2</td>\n",
       "        <td>None</td>\n",
       "    </tr>\n",
       "    <tr>\n",
       "        <td>wstruijs2k@kickstarter.com</td>\n",
       "        <td>BBB-2</td>\n",
       "        <td>None</td>\n",
       "    </tr>\n",
       "    <tr>\n",
       "        <td>csmogur3q@sbwire.com</td>\n",
       "        <td>BBB-2</td>\n",
       "        <td>lions</td>\n",
       "    </tr>\n",
       "    <tr>\n",
       "        <td>jgleader3u@imageshack.us</td>\n",
       "        <td>BBB-2</td>\n",
       "        <td>None</td>\n",
       "    </tr>\n",
       "    <tr>\n",
       "        <td>dshuttleworth41@reference.com</td>\n",
       "        <td>BBB-2</td>\n",
       "        <td>None</td>\n",
       "    </tr>\n",
       "</table>"
      ],
      "text/plain": [
       "[('egashion1j@angelfire.com', 'BBB-2', None),\n",
       " ('wstruijs2k@kickstarter.com', 'BBB-2', None),\n",
       " ('csmogur3q@sbwire.com', 'BBB-2', 'lions'),\n",
       " ('jgleader3u@imageshack.us', 'BBB-2', None),\n",
       " ('dshuttleworth41@reference.com', 'BBB-2', None)]"
      ]
     },
     "execution_count": 35,
     "metadata": {},
     "output_type": "execute_result"
    }
   ],
   "source": [
    "%%sql \n",
    "SELECT email,campaign, test\n",
    "FROM users \n",
    "WHERE campaign LIKE '%-2'\n",
    "LIMIT 5"
   ]
  },
  {
   "cell_type": "markdown",
   "id": "bf3c4c31",
   "metadata": {},
   "source": [
    "**7 -- Find the emails for all users who received both a campaign and a test.\n",
    "These users will have non-empty entries in the  campaign and test columns.**"
   ]
  },
  {
   "cell_type": "code",
   "execution_count": 63,
   "id": "e683907f",
   "metadata": {},
   "outputs": [
    {
     "name": "stdout",
     "output_type": "stream",
     "text": [
      " * sqlite:///users_db\n",
      "Done.\n"
     ]
    },
    {
     "data": {
      "text/html": [
       "<table>\n",
       "    <tr>\n",
       "        <th>email</th>\n",
       "        <th>campaign</th>\n",
       "        <th>test</th>\n",
       "    </tr>\n",
       "    <tr>\n",
       "        <td>csmogur3q@sbwire.com</td>\n",
       "        <td>BBB-2</td>\n",
       "        <td>lions</td>\n",
       "    </tr>\n",
       "    <tr>\n",
       "        <td>rpressman7g@1und1.de</td>\n",
       "        <td>BBB-1</td>\n",
       "        <td>lions</td>\n",
       "    </tr>\n",
       "    <tr>\n",
       "        <td>sivan8t@constantcontact.com</td>\n",
       "        <td>BBB-2</td>\n",
       "        <td>bears</td>\n",
       "    </tr>\n",
       "    <tr>\n",
       "        <td>teamerb7@cbslocal.com</td>\n",
       "        <td>BBB-1</td>\n",
       "        <td>bears</td>\n",
       "    </tr>\n",
       "    <tr>\n",
       "        <td>ckauffmandj@w3.org</td>\n",
       "        <td>BBB-1</td>\n",
       "        <td>bears</td>\n",
       "    </tr>\n",
       "</table>"
      ],
      "text/plain": [
       "[('csmogur3q@sbwire.com', 'BBB-2', 'lions'),\n",
       " ('rpressman7g@1und1.de', 'BBB-1', 'lions'),\n",
       " ('sivan8t@constantcontact.com', 'BBB-2', 'bears'),\n",
       " ('teamerb7@cbslocal.com', 'BBB-1', 'bears'),\n",
       " ('ckauffmandj@w3.org', 'BBB-1', 'bears')]"
      ]
     },
     "execution_count": 63,
     "metadata": {},
     "output_type": "execute_result"
    }
   ],
   "source": [
    "%%sql \n",
    "\n",
    "SELECT email,campaign, test\n",
    "FROM users \n",
    "WHERE campaign IS NOT NULL \n",
    "AND test IS NOT NULL\n",
    "LIMIT 5"
   ]
  },
  {
   "cell_type": "markdown",
   "id": "f533cd1f",
   "metadata": {},
   "source": [
    "**8\n",
    "-- Challenge\n",
    "-- One of the members of the marketing team had an idea of calculating\n",
    "-- how old users were when they signed up.**\n"
   ]
  },
  {
   "cell_type": "code",
   "execution_count": 67,
   "id": "590091c2",
   "metadata": {},
   "outputs": [
    {
     "ename": "SyntaxError",
     "evalue": "invalid syntax (<ipython-input-67-8f7f7fb13dd6>, line 1)",
     "output_type": "error",
     "traceback": [
      "\u001b[0;36m  File \u001b[0;32m\"<ipython-input-67-8f7f7fb13dd6>\"\u001b[0;36m, line \u001b[0;32m1\u001b[0m\n\u001b[0;31m    SELECT * (created_at - birthday) as age_on_signup\u001b[0m\n\u001b[0m                                     ^\u001b[0m\n\u001b[0;31mSyntaxError\u001b[0m\u001b[0;31m:\u001b[0m invalid syntax\n"
     ]
    }
   ],
   "source": [
    "SELECT * (created_at - birthday) as age_on_signup \n",
    "FROM users\n",
    "ORDER BY age_on_signup ASC\n",
    "LIMIT 5"
   ]
  },
  {
   "cell_type": "code",
   "execution_count": null,
   "id": "1d7c9c4f",
   "metadata": {},
   "outputs": [],
   "source": []
  }
 ],
 "metadata": {
  "kernelspec": {
   "display_name": "Python 3",
   "language": "python",
   "name": "python3"
  },
  "language_info": {
   "codemirror_mode": {
    "name": "ipython",
    "version": 3
   },
   "file_extension": ".py",
   "mimetype": "text/x-python",
   "name": "python",
   "nbconvert_exporter": "python",
   "pygments_lexer": "ipython3",
   "version": "3.8.8"
  }
 },
 "nbformat": 4,
 "nbformat_minor": 5
}
