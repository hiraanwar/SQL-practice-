{
 "cells": [
  {
   "cell_type": "markdown",
   "id": "ddf0bbb7",
   "metadata": {},
   "source": [
    "# Analyze Data With SQL In Jupyter Notebook\n",
    "## RPA Customer Segmentation | practice writing basic SQL queries | CodeAcademy \n"
   ]
  },
  {
   "cell_type": "markdown",
   "id": "17faf59b",
   "metadata": {},
   "source": [
    "**Query a user data set for customer segmentation**"
   ]
  },
  {
   "cell_type": "code",
   "execution_count": 1,
   "id": "7997a44f",
   "metadata": {},
   "outputs": [],
   "source": [
    "import pandas as pd\n",
    "import numpy as np\n",
    "import sqlite3 as sql "
   ]
  },
  {
   "cell_type": "markdown",
   "id": "7a726cb8",
   "metadata": {},
   "source": [
    "**open CSV file in pandas dataframe**"
   ]
  },
  {
   "cell_type": "code",
   "execution_count": 2,
   "id": "39cd5789",
   "metadata": {},
   "outputs": [
    {
     "data": {
      "text/html": [
       "<div>\n",
       "<style scoped>\n",
       "    .dataframe tbody tr th:only-of-type {\n",
       "        vertical-align: middle;\n",
       "    }\n",
       "\n",
       "    .dataframe tbody tr th {\n",
       "        vertical-align: top;\n",
       "    }\n",
       "\n",
       "    .dataframe thead th {\n",
       "        text-align: right;\n",
       "    }\n",
       "</style>\n",
       "<table border=\"1\" class=\"dataframe\">\n",
       "  <thead>\n",
       "    <tr style=\"text-align: right;\">\n",
       "      <th></th>\n",
       "      <th>id</th>\n",
       "      <th>email</th>\n",
       "      <th>campaign</th>\n",
       "      <th>test</th>\n",
       "      <th>created_at</th>\n",
       "      <th>birthday</th>\n",
       "    </tr>\n",
       "  </thead>\n",
       "  <tbody>\n",
       "    <tr>\n",
       "      <th>0</th>\n",
       "      <td>1</td>\n",
       "      <td>gchesshire0@ucoz.ru</td>\n",
       "      <td>NaN</td>\n",
       "      <td>NaN</td>\n",
       "      <td>2017-01-26</td>\n",
       "      <td>1982-04-17</td>\n",
       "    </tr>\n",
       "    <tr>\n",
       "      <th>1</th>\n",
       "      <td>2</td>\n",
       "      <td>rbritner1@is.gd</td>\n",
       "      <td>NaN</td>\n",
       "      <td>NaN</td>\n",
       "      <td>2017-10-08</td>\n",
       "      <td>1970-01-16</td>\n",
       "    </tr>\n",
       "    <tr>\n",
       "      <th>2</th>\n",
       "      <td>3</td>\n",
       "      <td>acoysh2@canalblog.com</td>\n",
       "      <td>NaN</td>\n",
       "      <td>NaN</td>\n",
       "      <td>2017-09-05</td>\n",
       "      <td>1986-08-11</td>\n",
       "    </tr>\n",
       "    <tr>\n",
       "      <th>3</th>\n",
       "      <td>4</td>\n",
       "      <td>rbasley3@google.cn</td>\n",
       "      <td>NaN</td>\n",
       "      <td>NaN</td>\n",
       "      <td>2017-07-29</td>\n",
       "      <td>1960-08-29</td>\n",
       "    </tr>\n",
       "    <tr>\n",
       "      <th>4</th>\n",
       "      <td>5</td>\n",
       "      <td>kdury4@elpais.com</td>\n",
       "      <td>NaN</td>\n",
       "      <td>NaN</td>\n",
       "      <td>2017-05-28</td>\n",
       "      <td>1988-10-02</td>\n",
       "    </tr>\n",
       "  </tbody>\n",
       "</table>\n",
       "</div>"
      ],
      "text/plain": [
       "   id                  email campaign test  created_at    birthday\n",
       "0   1    gchesshire0@ucoz.ru      NaN  NaN  2017-01-26  1982-04-17\n",
       "1   2        rbritner1@is.gd      NaN  NaN  2017-10-08  1970-01-16\n",
       "2   3  acoysh2@canalblog.com      NaN  NaN  2017-09-05  1986-08-11\n",
       "3   4     rbasley3@google.cn      NaN  NaN  2017-07-29  1960-08-29\n",
       "4   5      kdury4@elpais.com      NaN  NaN  2017-05-28  1988-10-02"
      ]
     },
     "execution_count": 2,
     "metadata": {},
     "output_type": "execute_result"
    }
   ],
   "source": [
    "users_db = pd.read_csv('RPA_customersegmentation_data.csv')\n",
    "users_db.head(5)"
   ]
  },
  {
   "cell_type": "markdown",
   "id": "5dc81720",
   "metadata": {},
   "source": [
    "### install the ipythons-sql library\n",
    "**This librabry will enable you to run sql in jupyer using jupyter magic commands**"
   ]
  },
  {
   "cell_type": "markdown",
   "id": "62d21e61",
   "metadata": {},
   "source": [
    "!pip install ipython-sql"
   ]
  },
  {
   "cell_type": "markdown",
   "id": "463214b3",
   "metadata": {},
   "source": [
    "### Use sqlite3 module and create a connection to pandas df "
   ]
  },
  {
   "cell_type": "markdown",
   "id": "1f8258ba",
   "metadata": {},
   "source": [
    "### Load the sql module to ipython "
   ]
  },
  {
   "cell_type": "code",
   "execution_count": 3,
   "id": "f732a6ed",
   "metadata": {},
   "outputs": [],
   "source": [
    "%reload_ext sql"
   ]
  },
  {
   "cell_type": "code",
   "execution_count": 4,
   "id": "5e2b4b3a",
   "metadata": {},
   "outputs": [],
   "source": [
    "%sql sqlite:///users_db"
   ]
  },
  {
   "cell_type": "markdown",
   "id": "428ce1d4",
   "metadata": {},
   "source": [
    "### Run sql queries "
   ]
  },
  {
   "cell_type": "markdown",
   "id": "9e4ef74e",
   "metadata": {},
   "source": [
    "**What are the column names**"
   ]
  },
  {
   "cell_type": "code",
   "execution_count": 5,
   "id": "fecf30de",
   "metadata": {},
   "outputs": [
    {
     "name": "stdout",
     "output_type": "stream",
     "text": [
      " * sqlite:///users_db\n",
      "Done.\n"
     ]
    },
    {
     "data": {
      "text/html": [
       "<table>\n",
       "    <tr>\n",
       "        <th>index</th>\n",
       "        <th>id</th>\n",
       "        <th>email</th>\n",
       "        <th>campaign</th>\n",
       "        <th>test</th>\n",
       "        <th>created_at</th>\n",
       "        <th>birthday</th>\n",
       "    </tr>\n",
       "    <tr>\n",
       "        <td>0</td>\n",
       "        <td>1</td>\n",
       "        <td>gchesshire0@ucoz.ru</td>\n",
       "        <td>None</td>\n",
       "        <td>None</td>\n",
       "        <td>2017-01-26</td>\n",
       "        <td>1982-04-17</td>\n",
       "    </tr>\n",
       "    <tr>\n",
       "        <td>1</td>\n",
       "        <td>2</td>\n",
       "        <td>rbritner1@is.gd</td>\n",
       "        <td>None</td>\n",
       "        <td>None</td>\n",
       "        <td>2017-10-08</td>\n",
       "        <td>1970-01-16</td>\n",
       "    </tr>\n",
       "    <tr>\n",
       "        <td>2</td>\n",
       "        <td>3</td>\n",
       "        <td>acoysh2@canalblog.com</td>\n",
       "        <td>None</td>\n",
       "        <td>None</td>\n",
       "        <td>2017-09-05</td>\n",
       "        <td>1986-08-11</td>\n",
       "    </tr>\n",
       "    <tr>\n",
       "        <td>3</td>\n",
       "        <td>4</td>\n",
       "        <td>rbasley3@google.cn</td>\n",
       "        <td>None</td>\n",
       "        <td>None</td>\n",
       "        <td>2017-07-29</td>\n",
       "        <td>1960-08-29</td>\n",
       "    </tr>\n",
       "    <tr>\n",
       "        <td>4</td>\n",
       "        <td>5</td>\n",
       "        <td>kdury4@elpais.com</td>\n",
       "        <td>None</td>\n",
       "        <td>None</td>\n",
       "        <td>2017-05-28</td>\n",
       "        <td>1988-10-02</td>\n",
       "    </tr>\n",
       "</table>"
      ],
      "text/plain": [
       "[(0, 1, 'gchesshire0@ucoz.ru', None, None, '2017-01-26', '1982-04-17'),\n",
       " (1, 2, 'rbritner1@is.gd', None, None, '2017-10-08', '1970-01-16'),\n",
       " (2, 3, 'acoysh2@canalblog.com', None, None, '2017-09-05', '1986-08-11'),\n",
       " (3, 4, 'rbasley3@google.cn', None, None, '2017-07-29', '1960-08-29'),\n",
       " (4, 5, 'kdury4@elpais.com', None, None, '2017-05-28', '1988-10-02')]"
      ]
     },
     "execution_count": 5,
     "metadata": {},
     "output_type": "execute_result"
    }
   ],
   "source": [
    "%%sql \n",
    "SELECT * \n",
    "FROM users\n",
    "LIMIT 5"
   ]
  },
  {
   "cell_type": "markdown",
   "id": "e6239463",
   "metadata": {},
   "source": [
    "**2\n",
    "--Find the email addresses and birthdays of users,whose birthday is between 1980-01-01 and 1989-12-31.**"
   ]
  },
  {
   "cell_type": "code",
   "execution_count": 6,
   "id": "9b28b44b",
   "metadata": {},
   "outputs": [
    {
     "name": "stdout",
     "output_type": "stream",
     "text": [
      " * sqlite:///users_db\n",
      "Done.\n"
     ]
    },
    {
     "data": {
      "text/html": [
       "<table>\n",
       "    <tr>\n",
       "        <th>email</th>\n",
       "        <th>birthday</th>\n",
       "    </tr>\n",
       "    <tr>\n",
       "        <td>ostobbs6f@goo.ne.jp</td>\n",
       "        <td>1980-01-18</td>\n",
       "    </tr>\n",
       "    <tr>\n",
       "        <td>efranek47@princeton.edu</td>\n",
       "        <td>1980-01-29</td>\n",
       "    </tr>\n",
       "    <tr>\n",
       "        <td>jitzhakbb@buzzfeed.com</td>\n",
       "        <td>1980-01-29</td>\n",
       "    </tr>\n",
       "    <tr>\n",
       "        <td>gdoumer5d@cdc.gov</td>\n",
       "        <td>1980-02-02</td>\n",
       "    </tr>\n",
       "    <tr>\n",
       "        <td>gdottridge7t@yahoo.com</td>\n",
       "        <td>1980-02-22</td>\n",
       "    </tr>\n",
       "</table>"
      ],
      "text/plain": [
       "[('ostobbs6f@goo.ne.jp', '1980-01-18'),\n",
       " ('efranek47@princeton.edu', '1980-01-29'),\n",
       " ('jitzhakbb@buzzfeed.com', '1980-01-29'),\n",
       " ('gdoumer5d@cdc.gov', '1980-02-02'),\n",
       " ('gdottridge7t@yahoo.com', '1980-02-22')]"
      ]
     },
     "execution_count": 6,
     "metadata": {},
     "output_type": "execute_result"
    }
   ],
   "source": [
    "%%sql\n",
    "SELECT email, birthday \n",
    "FROM users \n",
    "WHERE birthday LIKE '198%'\n",
    "ORDER BY birthday ASC\n",
    "LIMIT 5 "
   ]
  },
  {
   "cell_type": "markdown",
   "id": "ebcbfd6f",
   "metadata": {},
   "source": [
    "**3\n",
    "--interested in the group of users that signed up prior to May 2017.**\n",
    "**Find the emails and creation date of users, whose created_at date matches this condition**"
   ]
  },
  {
   "cell_type": "code",
   "execution_count": 7,
   "id": "65d3f21e",
   "metadata": {},
   "outputs": [
    {
     "name": "stdout",
     "output_type": "stream",
     "text": [
      " * sqlite:///users_db\n",
      "Done.\n"
     ]
    },
    {
     "data": {
      "text/html": [
       "<table>\n",
       "    <tr>\n",
       "        <th>email</th>\n",
       "        <th>created_at</th>\n",
       "    </tr>\n",
       "    <tr>\n",
       "        <td>gchesshire0@ucoz.ru</td>\n",
       "        <td>2017-01-26</td>\n",
       "    </tr>\n",
       "    <tr>\n",
       "        <td>tdurden7@usgs.gov</td>\n",
       "        <td>2017-04-09</td>\n",
       "    </tr>\n",
       "    <tr>\n",
       "        <td>rtinn8@archive.org</td>\n",
       "        <td>2017-01-14</td>\n",
       "    </tr>\n",
       "    <tr>\n",
       "        <td>torowaned@patch.com</td>\n",
       "        <td>2017-03-27</td>\n",
       "    </tr>\n",
       "    <tr>\n",
       "        <td>vdimmerg@123-reg.co.uk</td>\n",
       "        <td>2017-02-04</td>\n",
       "    </tr>\n",
       "</table>"
      ],
      "text/plain": [
       "[('gchesshire0@ucoz.ru', '2017-01-26'),\n",
       " ('tdurden7@usgs.gov', '2017-04-09'),\n",
       " ('rtinn8@archive.org', '2017-01-14'),\n",
       " ('torowaned@patch.com', '2017-03-27'),\n",
       " ('vdimmerg@123-reg.co.uk', '2017-02-04')]"
      ]
     },
     "execution_count": 7,
     "metadata": {},
     "output_type": "execute_result"
    }
   ],
   "source": [
    "%%sql \n",
    "\n",
    "SELECT email, created_at\n",
    "FROM users \n",
    "WHERE created_at < '2017-05-01'\n",
    "LIMIT 5 "
   ]
  },
  {
   "cell_type": "markdown",
   "id": "082fcf7b",
   "metadata": {},
   "source": [
    "**4-- A/B Testing\n",
    "Find the emails of the users who received the ‘bears’ test.**\n",
    " "
   ]
  },
  {
   "cell_type": "code",
   "execution_count": 8,
   "id": "dcf8c163",
   "metadata": {
    "scrolled": true
   },
   "outputs": [
    {
     "name": "stdout",
     "output_type": "stream",
     "text": [
      " * sqlite:///users_db\n",
      "Done.\n"
     ]
    },
    {
     "data": {
      "text/html": [
       "<table>\n",
       "    <tr>\n",
       "        <th>index</th>\n",
       "        <th>id</th>\n",
       "        <th>email</th>\n",
       "        <th>campaign</th>\n",
       "        <th>test</th>\n",
       "        <th>created_at</th>\n",
       "        <th>birthday</th>\n",
       "    </tr>\n",
       "    <tr>\n",
       "        <td>7</td>\n",
       "        <td>8</td>\n",
       "        <td>tdurden7@usgs.gov</td>\n",
       "        <td>None</td>\n",
       "        <td>bears</td>\n",
       "        <td>2017-04-09</td>\n",
       "        <td>1989-08-12</td>\n",
       "    </tr>\n",
       "    <tr>\n",
       "        <td>9</td>\n",
       "        <td>10</td>\n",
       "        <td>styndall9@vimeo.com</td>\n",
       "        <td>None</td>\n",
       "        <td>bears</td>\n",
       "        <td>2017-11-05</td>\n",
       "        <td>1976-01-20</td>\n",
       "    </tr>\n",
       "    <tr>\n",
       "        <td>11</td>\n",
       "        <td>12</td>\n",
       "        <td>hhandmanb@macromedia.com</td>\n",
       "        <td>None</td>\n",
       "        <td>bears</td>\n",
       "        <td>2017-05-29</td>\n",
       "        <td>1963-10-24</td>\n",
       "    </tr>\n",
       "    <tr>\n",
       "        <td>30</td>\n",
       "        <td>31</td>\n",
       "        <td>bnoadsu@howstuffworks.com</td>\n",
       "        <td>None</td>\n",
       "        <td>bears</td>\n",
       "        <td>2017-04-29</td>\n",
       "        <td>1967-08-11</td>\n",
       "    </tr>\n",
       "    <tr>\n",
       "        <td>39</td>\n",
       "        <td>40</td>\n",
       "        <td>sirving13@php.net</td>\n",
       "        <td>None</td>\n",
       "        <td>bears</td>\n",
       "        <td>2017-06-10</td>\n",
       "        <td>1987-09-03</td>\n",
       "    </tr>\n",
       "</table>"
      ],
      "text/plain": [
       "[(7, 8, 'tdurden7@usgs.gov', None, 'bears', '2017-04-09', '1989-08-12'),\n",
       " (9, 10, 'styndall9@vimeo.com', None, 'bears', '2017-11-05', '1976-01-20'),\n",
       " (11, 12, 'hhandmanb@macromedia.com', None, 'bears', '2017-05-29', '1963-10-24'),\n",
       " (30, 31, 'bnoadsu@howstuffworks.com', None, 'bears', '2017-04-29', '1967-08-11'),\n",
       " (39, 40, 'sirving13@php.net', None, 'bears', '2017-06-10', '1987-09-03')]"
      ]
     },
     "execution_count": 8,
     "metadata": {},
     "output_type": "execute_result"
    }
   ],
   "source": [
    "%%sql \n",
    "SELECT * \n",
    "FROM users \n",
    "WHERE test = 'bears'\n",
    "LIMIT 5"
   ]
  },
  {
   "cell_type": "markdown",
   "id": "3f7790c8",
   "metadata": {},
   "source": [
    "**5-- Two sets of ad copy were run on two different websites.\n",
    "Query users who received ads on website BBB.\n",
    "Find all the emails of all users who received a campaign on website BBB.**"
   ]
  },
  {
   "cell_type": "code",
   "execution_count": 9,
   "id": "26688f82",
   "metadata": {},
   "outputs": [
    {
     "name": "stdout",
     "output_type": "stream",
     "text": [
      " * sqlite:///users_db\n",
      "Done.\n"
     ]
    },
    {
     "data": {
      "text/html": [
       "<table>\n",
       "    <tr>\n",
       "        <th>email</th>\n",
       "        <th>campaign</th>\n",
       "    </tr>\n",
       "    <tr>\n",
       "        <td>egashion1j@angelfire.com</td>\n",
       "        <td>BBB-2</td>\n",
       "    </tr>\n",
       "    <tr>\n",
       "        <td>jfawley22@zdnet.com</td>\n",
       "        <td>BBB-1</td>\n",
       "    </tr>\n",
       "    <tr>\n",
       "        <td>wstruijs2k@kickstarter.com</td>\n",
       "        <td>BBB-2</td>\n",
       "    </tr>\n",
       "    <tr>\n",
       "        <td>gtetlow3c@jimdo.com</td>\n",
       "        <td>BBB-1</td>\n",
       "    </tr>\n",
       "    <tr>\n",
       "        <td>csmogur3q@sbwire.com</td>\n",
       "        <td>BBB-2</td>\n",
       "    </tr>\n",
       "</table>"
      ],
      "text/plain": [
       "[('egashion1j@angelfire.com', 'BBB-2'),\n",
       " ('jfawley22@zdnet.com', 'BBB-1'),\n",
       " ('wstruijs2k@kickstarter.com', 'BBB-2'),\n",
       " ('gtetlow3c@jimdo.com', 'BBB-1'),\n",
       " ('csmogur3q@sbwire.com', 'BBB-2')]"
      ]
     },
     "execution_count": 9,
     "metadata": {},
     "output_type": "execute_result"
    }
   ],
   "source": [
    "%%sql\n",
    "\n",
    "SELECT email, campaign\n",
    "FROM users \n",
    "WHERE campaign LIKE 'B%'\n",
    "LIMIT 5"
   ]
  },
  {
   "cell_type": "markdown",
   "id": "02d3c3a9",
   "metadata": {},
   "source": [
    "**6 -- Find all the emails of all users who received ad copy 2 in their campaign.**"
   ]
  },
  {
   "cell_type": "code",
   "execution_count": 10,
   "id": "414dcdb4",
   "metadata": {},
   "outputs": [
    {
     "name": "stdout",
     "output_type": "stream",
     "text": [
      " * sqlite:///users_db\n",
      "Done.\n"
     ]
    },
    {
     "data": {
      "text/html": [
       "<table>\n",
       "    <tr>\n",
       "        <th>email</th>\n",
       "        <th>campaign</th>\n",
       "        <th>test</th>\n",
       "    </tr>\n",
       "    <tr>\n",
       "        <td>egashion1j@angelfire.com</td>\n",
       "        <td>BBB-2</td>\n",
       "        <td>None</td>\n",
       "    </tr>\n",
       "    <tr>\n",
       "        <td>wstruijs2k@kickstarter.com</td>\n",
       "        <td>BBB-2</td>\n",
       "        <td>None</td>\n",
       "    </tr>\n",
       "    <tr>\n",
       "        <td>csmogur3q@sbwire.com</td>\n",
       "        <td>BBB-2</td>\n",
       "        <td>lions</td>\n",
       "    </tr>\n",
       "    <tr>\n",
       "        <td>jgleader3u@imageshack.us</td>\n",
       "        <td>BBB-2</td>\n",
       "        <td>None</td>\n",
       "    </tr>\n",
       "    <tr>\n",
       "        <td>dshuttleworth41@reference.com</td>\n",
       "        <td>BBB-2</td>\n",
       "        <td>None</td>\n",
       "    </tr>\n",
       "</table>"
      ],
      "text/plain": [
       "[('egashion1j@angelfire.com', 'BBB-2', None),\n",
       " ('wstruijs2k@kickstarter.com', 'BBB-2', None),\n",
       " ('csmogur3q@sbwire.com', 'BBB-2', 'lions'),\n",
       " ('jgleader3u@imageshack.us', 'BBB-2', None),\n",
       " ('dshuttleworth41@reference.com', 'BBB-2', None)]"
      ]
     },
     "execution_count": 10,
     "metadata": {},
     "output_type": "execute_result"
    }
   ],
   "source": [
    "%%sql \n",
    "SELECT email,campaign, test\n",
    "FROM users \n",
    "WHERE campaign LIKE '%-2'\n",
    "LIMIT 5"
   ]
  },
  {
   "cell_type": "markdown",
   "id": "bf3c4c31",
   "metadata": {},
   "source": [
    "**7 -- Find the emails for all users who received both a campaign and a test.\n",
    "These users will have non-empty entries in the  campaign and test columns.**"
   ]
  },
  {
   "cell_type": "code",
   "execution_count": 11,
   "id": "e683907f",
   "metadata": {},
   "outputs": [
    {
     "name": "stdout",
     "output_type": "stream",
     "text": [
      " * sqlite:///users_db\n",
      "Done.\n"
     ]
    },
    {
     "data": {
      "text/html": [
       "<table>\n",
       "    <tr>\n",
       "        <th>email</th>\n",
       "        <th>campaign</th>\n",
       "        <th>test</th>\n",
       "    </tr>\n",
       "    <tr>\n",
       "        <td>csmogur3q@sbwire.com</td>\n",
       "        <td>BBB-2</td>\n",
       "        <td>lions</td>\n",
       "    </tr>\n",
       "    <tr>\n",
       "        <td>rpressman7g@1und1.de</td>\n",
       "        <td>BBB-1</td>\n",
       "        <td>lions</td>\n",
       "    </tr>\n",
       "    <tr>\n",
       "        <td>sivan8t@constantcontact.com</td>\n",
       "        <td>BBB-2</td>\n",
       "        <td>bears</td>\n",
       "    </tr>\n",
       "    <tr>\n",
       "        <td>teamerb7@cbslocal.com</td>\n",
       "        <td>BBB-1</td>\n",
       "        <td>bears</td>\n",
       "    </tr>\n",
       "    <tr>\n",
       "        <td>ckauffmandj@w3.org</td>\n",
       "        <td>BBB-1</td>\n",
       "        <td>bears</td>\n",
       "    </tr>\n",
       "</table>"
      ],
      "text/plain": [
       "[('csmogur3q@sbwire.com', 'BBB-2', 'lions'),\n",
       " ('rpressman7g@1und1.de', 'BBB-1', 'lions'),\n",
       " ('sivan8t@constantcontact.com', 'BBB-2', 'bears'),\n",
       " ('teamerb7@cbslocal.com', 'BBB-1', 'bears'),\n",
       " ('ckauffmandj@w3.org', 'BBB-1', 'bears')]"
      ]
     },
     "execution_count": 11,
     "metadata": {},
     "output_type": "execute_result"
    }
   ],
   "source": [
    "%%sql \n",
    "\n",
    "SELECT email,campaign, test\n",
    "FROM users \n",
    "WHERE campaign IS NOT NULL \n",
    "AND test IS NOT NULL\n",
    "LIMIT 5"
   ]
  },
  {
   "cell_type": "markdown",
   "id": "f533cd1f",
   "metadata": {},
   "source": [
    "**8\n",
    "-- Challenge\n",
    "-- One of the members of the marketing team had an idea of calculating how old users were when they signed up.**\n"
   ]
  },
  {
   "cell_type": "code",
   "execution_count": 12,
   "id": "1d7c9c4f",
   "metadata": {},
   "outputs": [
    {
     "name": "stdout",
     "output_type": "stream",
     "text": [
      " * sqlite:///users_db\n",
      "Done.\n"
     ]
    },
    {
     "data": {
      "text/html": [
       "<table>\n",
       "    <tr>\n",
       "        <th>age_on_signup</th>\n",
       "    </tr>\n",
       "    <tr>\n",
       "        <td>34</td>\n",
       "    </tr>\n",
       "    <tr>\n",
       "        <td>47</td>\n",
       "    </tr>\n",
       "    <tr>\n",
       "        <td>31</td>\n",
       "    </tr>\n",
       "    <tr>\n",
       "        <td>56</td>\n",
       "    </tr>\n",
       "    <tr>\n",
       "        <td>28</td>\n",
       "    </tr>\n",
       "</table>"
      ],
      "text/plain": [
       "[(34,), (47,), (31,), (56,), (28,)]"
      ]
     },
     "execution_count": 12,
     "metadata": {},
     "output_type": "execute_result"
    }
   ],
   "source": [
    "%%sql \n",
    "SELECT (CAST(julianday(created_at) - julianday(birthday) as integer) / 365 ) as age_on_signup\n",
    "FROM users\n",
    "LIMIT 5\n"
   ]
  },
  {
   "cell_type": "code",
   "execution_count": null,
   "id": "38f56251",
   "metadata": {},
   "outputs": [],
   "source": []
  }
 ],
 "metadata": {
  "kernelspec": {
   "display_name": "Python 3",
   "language": "python",
   "name": "python3"
  },
  "language_info": {
   "codemirror_mode": {
    "name": "ipython",
    "version": 3
   },
   "file_extension": ".py",
   "mimetype": "text/x-python",
   "name": "python",
   "nbconvert_exporter": "python",
   "pygments_lexer": "ipython3",
   "version": "3.8.8"
  }
 },
 "nbformat": 4,
 "nbformat_minor": 5
}
